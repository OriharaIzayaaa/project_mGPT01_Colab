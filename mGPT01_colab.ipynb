{
 "cells": [
  {
   "cell_type": "markdown",
   "metadata": {},
   "source": [
    "Clone the repository to get started. You will be asked your credentials. Please provide them."
   ]
  },
  {
   "cell_type": "code",
   "execution_count": null,
   "metadata": {},
   "outputs": [],
   "source": [
    "!git clone https://gitea.iwm-tuebingen.de/ganders/project_mGPT01_Code/\n",
    "\n",
    "# Navigate into the cloned directory\n",
    "%cd project_mGPT01_Code"
   ]
  },
  {
   "cell_type": "code",
   "execution_count": null,
   "metadata": {},
   "outputs": [],
   "source": [
    "# Install the requirements\n",
    "!pip install -r requirements.txt"
   ]
  },
  {
   "cell_type": "markdown",
   "metadata": {},
   "source": [
    "You can edit your settings with the next block if you want"
   ]
  },
  {
   "cell_type": "code",
   "execution_count": null,
   "metadata": {},
   "outputs": [],
   "source": [
    "import json\n",
    "data = {}  \n",
    "data['key'] = 'value'\n",
    "with open('config.json', 'w') as outfile:\n",
    "    json.dump(data, outfile)"
   ]
  },
  {
   "cell_type": "markdown",
   "metadata": {},
   "source": [
    "Now before you start the software please upload your input with the next code block"
   ]
  },
  {
   "cell_type": "code",
   "execution_count": null,
   "metadata": {},
   "outputs": [],
   "source": [
    "from google.colab import files\n",
    "import os\n",
    "\n",
    "# Upload the file\n",
    "uploaded = files.upload()\n",
    "\n",
    "# Get the name of the uploaded file\n",
    "uploaded_file_name = list(uploaded.keys())[0]\n",
    "\n",
    "# Define the folder and new file name\n",
    "folder_path = \"./project_mGPT01_Code/\"\n",
    "new_file_name = \"input.csv\"\n",
    "\n",
    "# Rename and move the file\n",
    "os.rename(uploaded_file_name, new_file_name)\n",
    "!mv {new_file_name} {folder_path}"
   ]
  },
  {
   "cell_type": "code",
   "execution_count": null,
   "metadata": {},
   "outputs": [],
   "source": [
    "!python3 mGPT.py input.csv config.json output.csv"
   ]
  },
  {
   "cell_type": "markdown",
   "metadata": {},
   "source": [
    "please make sure to save your output directly or it will be lost"
   ]
  }
 ],
 "metadata": {
  "language_info": {
   "name": "python"
  },
  "orig_nbformat": 4
 },
 "nbformat": 4,
 "nbformat_minor": 2
}
